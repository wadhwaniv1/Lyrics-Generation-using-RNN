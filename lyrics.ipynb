{
  "nbformat": 4,
  "nbformat_minor": 0,
  "metadata": {
    "colab": {
      "name": "test.ipynb",
      "provenance": [],
      "collapsed_sections": [],
      "mount_file_id": "1a8FmYLaET7vsVHV9XPCvZsdmzflKeytx",
      "authorship_tag": "ABX9TyP3guaWVnzGugmOF+Peb9Gc",
      "include_colab_link": true
    },
    "kernelspec": {
      "name": "python3",
      "display_name": "Python 3"
    }
  },
  "cells": [
    {
      "cell_type": "markdown",
      "metadata": {
        "id": "view-in-github",
        "colab_type": "text"
      },
      "source": [
        "<a href=\"https://colab.research.google.com/github/wadhwaniv1/Lyrics-Generation-using-RNN-/blob/main/lyrics.ipynb\" target=\"_parent\"><img src=\"https://colab.research.google.com/assets/colab-badge.svg\" alt=\"Open In Colab\"/></a>"
      ]
    },
    {
      "cell_type": "code",
      "metadata": {
        "id": "y836PCJgPcWX"
      },
      "source": [
        "#importing the necessary libraries required\n",
        "from tensorflow.keras.preprocessing.sequence import pad_sequences\n",
        "from tensorflow.keras.layers import Embedding, LSTM, Dense, Dropout, Bidirectional\n",
        "from tensorflow.keras.preprocessing.text import Tokenizer\n",
        "from tensorflow.keras.models import Sequential\n",
        "from tensorflow.keras.optimizers import Adam\n",
        "from tensorflow.keras import regularizers\n",
        "import tensorflow.keras.utils as ku\n",
        "import numpy as np\n",
        "import pandas as pd\n",
        "import matplotlib.pyplot as plt\n",
        "import tensorflow as tf"
      ],
      "execution_count": null,
      "outputs": []
    },
    {
      "cell_type": "code",
      "metadata": {
        "colab": {
          "base_uri": "https://localhost:8080/"
        },
        "id": "bJNtakPX34Dh",
        "outputId": "79f9d8d6-bdac-46c1-a23e-498481026e8f"
      },
      "source": [
        "# importing dataset in .txt format\n",
        "# loading the dataset file and display lyrics\n",
        "lyric=open('lorde.txt').read()\n",
        "print(lyric[:2000])"
      ],
      "execution_count": null,
      "outputs": [
        {
          "output_type": "stream",
          "text": [
            "Well, summer slipped us underneath her tongue\n",
            "Our days and nights are perfumed with obsession\n",
            "Half of my wardrobe is on your bedroom floor\n",
            "Use our eyes, throw our hands overboard\n",
            "I am your sweetheart psychopathic crush\n",
            "Drink up your movements, still I can't get enough\n",
            "I overthink your punctuation use\n",
            "Not my fault, just a thing that my mind do\n",
            "A rush at the beginning\n",
            "I get caught up, just for a minute\n",
            "But lover, you're the one to blame\n",
            "All that you're doing\n",
            "Can you hear the violence?\n",
            "Megaphone to my chest\n",
            "Broadcast the boom, boom, boom, boom\n",
            "And make 'em all dance to it\n",
            "Broadcast the boom, boom, boom, boom\n",
            "And make 'em all dance to it\n",
            "Broadcast the boom, boom, boom, boom\n",
            "And make 'em all dance to it\n",
            "Broadcast the boom, boom, boom, boom\n",
            "And make 'em all dance to it\n",
            "Broadcast the boom, boom, boom, boom\n",
            "And make 'em all dance to it\n",
            "Our thing progresses\n",
            "I call and you come through\n",
            "Blow all my friendships\n",
            "To sit in hell with you\n",
            "But we're the greatest\n",
            "They'll hang us in the Louvre\n",
            "Well, summer slipped us underneath her tongue\n",
            "Our days and nights are perfumed with obsession\n",
            "Half of my wardrobe is on your bedroom floor\n",
            "Use our eyes, throw our hands overboard\n",
            "I am your sweetheart psychopathic crush\n",
            "Drink up your movements, still I can't get enough\n",
            "I overthink your punctuation use\n",
            "Not my fault, just a thing that my mind do\n",
            "A rush at the beginning\n",
            "I get caught up, just for a minute\n",
            "But lover, you're the one to blame\n",
            "All that you're doing\n",
            "Can you hear the violence?\n",
            "Megaphone to my chest\n",
            "Broadcast the boom, boom, boom, boom\n",
            "And make 'em all dance to it\n",
            "Broadcast the boom, boom, boom, boom\n",
            "And make 'em all dance to it\n",
            "Broadcast the boom, boom, boom, boom\n",
            "And make 'em all dance to it\n",
            "Broadcast the boom, boom, boom, boom\n",
            "And make 'em all dance to it\n",
            "Broadcast the boom, boom, boom, boom\n",
            "And make 'em all dance to it\n",
            "Our thing progresses\n",
            "I call and you come through\n",
            "Blow all my friendships\n",
            "To sit in hell with you\n",
            "But we're the greatest\n",
            "They'll hang us in the Louvre\n",
            "Well, summer slipped\n"
          ],
          "name": "stdout"
        }
      ]
    },
    {
      "cell_type": "code",
      "metadata": {
        "colab": {
          "base_uri": "https://localhost:8080/"
        },
        "id": "0amNTE7i39yY",
        "outputId": "a4f3a19a-ed47-4ea6-b700-e3fa26e051ce"
      },
      "source": [
        "# pre-processing datset\n",
        "# converting into lowercase and split the datset\n",
        "corpus=lyric.lower().split('\\n')\n",
        "for i in range(40,60):\n",
        "  print(corpus[i])"
      ],
      "execution_count": null,
      "outputs": [
        {
          "output_type": "stream",
          "text": [
            "but lover, you're the one to blame\n",
            "all that you're doing\n",
            "can you hear the violence?\n",
            "megaphone to my chest\n",
            "broadcast the boom, boom, boom, boom\n",
            "and make 'em all dance to it\n",
            "broadcast the boom, boom, boom, boom\n",
            "and make 'em all dance to it\n",
            "broadcast the boom, boom, boom, boom\n",
            "and make 'em all dance to it\n",
            "broadcast the boom, boom, boom, boom\n",
            "and make 'em all dance to it\n",
            "broadcast the boom, boom, boom, boom\n",
            "and make 'em all dance to it\n",
            "our thing progresses\n",
            "i call and you come through\n",
            "blow all my friendships\n",
            "to sit in hell with you\n",
            "but we're the greatest\n",
            "they'll hang us in the louvre\n"
          ],
          "name": "stdout"
        }
      ]
    },
    {
      "cell_type": "code",
      "metadata": {
        "colab": {
          "base_uri": "https://localhost:8080/"
        },
        "id": "8GKb_Ake4OHg",
        "outputId": "b6bed55c-3765-4c4d-8df2-8da40e359ee8"
      },
      "source": [
        "# tokenizing\n",
        "tokenizer = Tokenizer()\n",
        "tokenizer.fit_on_texts(corpus)\n",
        "total_words = len(tokenizer.word_index) + 1\n",
        "total_words\n",
        "word_index = tokenizer.word_index\n",
        "print(word_index)"
      ],
      "execution_count": null,
      "outputs": [
        {
          "output_type": "stream",
          "text": [
            "{'boom': 1, 'the': 2, 'to': 3, 'and': 4, 'all': 5, 'my': 6, 'i': 7, 'broadcast': 8, 'make': 9, \"'em\": 10, 'dance': 11, 'it': 12, 'our': 13, 'your': 14, 'a': 15, 'you': 16, 'us': 17, 'with': 18, 'use': 19, 'up': 20, 'get': 21, 'just': 22, 'thing': 23, 'that': 24, 'but': 25, \"you're\": 26, 'in': 27, 'well': 28, 'summer': 29, 'slipped': 30, 'underneath': 31, 'her': 32, 'tongue': 33, 'days': 34, 'nights': 35, 'are': 36, 'perfumed': 37, 'obsession': 38, 'half': 39, 'of': 40, 'wardrobe': 41, 'is': 42, 'on': 43, 'bedroom': 44, 'floor': 45, 'eyes': 46, 'throw': 47, 'hands': 48, 'overboard': 49, 'am': 50, 'sweetheart': 51, 'psychopathic': 52, 'crush': 53, 'drink': 54, 'movements': 55, 'still': 56, \"can't\": 57, 'enough': 58, 'overthink': 59, 'punctuation': 60, 'not': 61, 'fault': 62, 'mind': 63, 'do': 64, 'rush': 65, 'at': 66, 'beginning': 67, 'caught': 68, 'for': 69, 'minute': 70, 'lover': 71, 'one': 72, 'blame': 73, 'doing': 74, 'can': 75, 'hear': 76, 'violence': 77, 'megaphone': 78, 'chest': 79, 'progresses': 80, 'call': 81, 'come': 82, 'through': 83, 'blow': 84, 'friendships': 85, 'sit': 86, 'hell': 87, \"we're\": 88, 'greatest': 89, \"they'll\": 90, 'hang': 91, 'louvre': 92}\n"
          ],
          "name": "stdout"
        }
      ]
    },
    {
      "cell_type": "code",
      "metadata": {
        "colab": {
          "base_uri": "https://localhost:8080/"
        },
        "id": "2Kc2KXoE9Fwq",
        "outputId": "818c052f-ccbb-46a1-f92e-e6ac907e361c"
      },
      "source": [
        "# using list of tokens create input sequences\n",
        "input_sequences = []\n",
        "for line in corpus:\n",
        " token_list = tokenizer.texts_to_sequences([line])[0]\n",
        " \n",
        " for i in range(1, len(token_list)):\n",
        "     n_gram_sequence = token_list[:i+1]\n",
        "     input_sequences.append(n_gram_sequence)\n",
        "for i in range(20):\n",
        " print(input_sequences[i])"
      ],
      "execution_count": null,
      "outputs": [
        {
          "output_type": "stream",
          "text": [
            "[28, 29]\n",
            "[28, 29, 30]\n",
            "[28, 29, 30, 17]\n",
            "[28, 29, 30, 17, 31]\n",
            "[28, 29, 30, 17, 31, 32]\n",
            "[28, 29, 30, 17, 31, 32, 33]\n",
            "[13, 34]\n",
            "[13, 34, 4]\n",
            "[13, 34, 4, 35]\n",
            "[13, 34, 4, 35, 36]\n",
            "[13, 34, 4, 35, 36, 37]\n",
            "[13, 34, 4, 35, 36, 37, 18]\n",
            "[13, 34, 4, 35, 36, 37, 18, 38]\n",
            "[39, 40]\n",
            "[39, 40, 6]\n",
            "[39, 40, 6, 41]\n",
            "[39, 40, 6, 41, 42]\n",
            "[39, 40, 6, 41, 42, 43]\n",
            "[39, 40, 6, 41, 42, 43, 14]\n",
            "[39, 40, 6, 41, 42, 43, 14, 44]\n"
          ],
          "name": "stdout"
        }
      ]
    },
    {
      "cell_type": "code",
      "metadata": {
        "colab": {
          "base_uri": "https://localhost:8080/"
        },
        "id": "0uDQh33y9ULi",
        "outputId": "7866c42a-9c86-43dd-d302-95144f41d638"
      },
      "source": [
        "# padding either post-padding or pre-padding\n",
        "max_sequence_len = max([len(x) for x in input_sequences])\n",
        "input_sequences = np.array(pad_sequences(input_sequences, maxlen=max_sequence_len,padding='pre'))\n",
        "print(max_sequence_len)\n",
        "print(input_sequences)"
      ],
      "execution_count": null,
      "outputs": [
        {
          "output_type": "stream",
          "text": [
            "10\n",
            "[[ 0  0  0 ...  0 28 29]\n",
            " [ 0  0  0 ... 28 29 30]\n",
            " [ 0  0  0 ... 29 30 17]\n",
            " ...\n",
            " [ 0  0  0 ... 91 17 27]\n",
            " [ 0  0  0 ... 17 27  2]\n",
            " [ 0  0  0 ... 27  2 92]]\n"
          ],
          "name": "stdout"
        }
      ]
    },
    {
      "cell_type": "code",
      "metadata": {
        "colab": {
          "base_uri": "https://localhost:8080/"
        },
        "id": "a_wvUmZa-dCh",
        "outputId": "2fd6af52-9642-419c-c443-378c72765e75"
      },
      "source": [
        "print(input_sequences.shape)\n",
        "print(max_sequence_len)"
      ],
      "execution_count": null,
      "outputs": [
        {
          "output_type": "stream",
          "text": [
            "(5688, 10)\n",
            "10\n"
          ],
          "name": "stdout"
        }
      ]
    },
    {
      "cell_type": "code",
      "metadata": {
        "colab": {
          "base_uri": "https://localhost:8080/"
        },
        "id": "3uTRv3EH9cNC",
        "outputId": "42fc5c47-36ed-44fb-d661-314cac47e516"
      },
      "source": [
        "# Model building\n",
        "model = Sequential()\n",
        "model.add(Embedding(1372, 160, input_length=max_sequence_len-1))\n",
        "model.add(Bidirectional(LSTM(200, return_sequences = True)))\n",
        "model.add(Dropout(0.2))\n",
        "model.add(LSTM(100))\n",
        "model.add(Dense(1372/2, activation='relu', kernel_regularizer=regularizers.l2(0.001)))\n",
        "model.add(Dense(93, activation='softmax'))\n",
        "model.compile(loss='binary_crossentropy', optimizer='adam', metrics=['accuracy'])\n",
        "print(model.summary())"
      ],
      "execution_count": null,
      "outputs": [
        {
          "output_type": "stream",
          "text": [
            "Model: \"sequential\"\n",
            "_________________________________________________________________\n",
            "Layer (type)                 Output Shape              Param #   \n",
            "=================================================================\n",
            "embedding (Embedding)        (None, 9, 160)            219520    \n",
            "_________________________________________________________________\n",
            "bidirectional (Bidirectional (None, 9, 400)            577600    \n",
            "_________________________________________________________________\n",
            "dropout (Dropout)            (None, 9, 400)            0         \n",
            "_________________________________________________________________\n",
            "lstm_1 (LSTM)                (None, 100)               200400    \n",
            "_________________________________________________________________\n",
            "dense (Dense)                (None, 686)               69286     \n",
            "_________________________________________________________________\n",
            "dense_1 (Dense)              (None, 93)                63891     \n",
            "=================================================================\n",
            "Total params: 1,130,697\n",
            "Trainable params: 1,130,697\n",
            "Non-trainable params: 0\n",
            "_________________________________________________________________\n",
            "None\n"
          ],
          "name": "stdout"
        }
      ]
    },
    {
      "cell_type": "code",
      "metadata": {
        "id": "24Ur8p9j_zri"
      },
      "source": [
        "# create predictors and label\n",
        "predictors, label = input_sequences[:,:-1],input_sequences[:,-1]\n",
        "label = ku.to_categorical(label, num_classes=total_words)"
      ],
      "execution_count": null,
      "outputs": []
    },
    {
      "cell_type": "code",
      "metadata": {
        "colab": {
          "base_uri": "https://localhost:8080/"
        },
        "id": "iW3IQW2cA6IT",
        "outputId": "0f67b9b7-685d-4668-c68b-ceec68d768c4"
      },
      "source": [
        "# model training\n",
        "history = model.fit(predictors, label, epochs=50, verbose=1)"
      ],
      "execution_count": null,
      "outputs": [
        {
          "output_type": "stream",
          "text": [
            "Epoch 1/50\n",
            "178/178 [==============================] - 20s 83ms/step - loss: 0.1351 - accuracy: 0.1106\n",
            "Epoch 2/50\n",
            "178/178 [==============================] - 15s 83ms/step - loss: 0.0567 - accuracy: 0.1215\n",
            "Epoch 3/50\n",
            "178/178 [==============================] - 15s 83ms/step - loss: 0.0551 - accuracy: 0.1232\n",
            "Epoch 4/50\n",
            "178/178 [==============================] - 15s 82ms/step - loss: 0.0549 - accuracy: 0.1225\n",
            "Epoch 5/50\n",
            "178/178 [==============================] - 15s 82ms/step - loss: 0.0546 - accuracy: 0.1203\n",
            "Epoch 6/50\n",
            "178/178 [==============================] - 15s 82ms/step - loss: 0.0532 - accuracy: 0.1334\n",
            "Epoch 7/50\n",
            "178/178 [==============================] - 15s 83ms/step - loss: 0.0503 - accuracy: 0.1677\n",
            "Epoch 8/50\n",
            "178/178 [==============================] - 15s 83ms/step - loss: 0.0483 - accuracy: 0.1923\n",
            "Epoch 9/50\n",
            "178/178 [==============================] - 15s 83ms/step - loss: 0.0459 - accuracy: 0.2247\n",
            "Epoch 10/50\n",
            "178/178 [==============================] - 15s 83ms/step - loss: 0.0442 - accuracy: 0.2813\n",
            "Epoch 11/50\n",
            "178/178 [==============================] - 15s 83ms/step - loss: 0.0426 - accuracy: 0.3186\n",
            "Epoch 12/50\n",
            "178/178 [==============================] - 15s 82ms/step - loss: 0.0413 - accuracy: 0.3286\n",
            "Epoch 13/50\n",
            "178/178 [==============================] - 15s 83ms/step - loss: 0.0403 - accuracy: 0.3303\n",
            "Epoch 14/50\n",
            "178/178 [==============================] - 15s 83ms/step - loss: 0.0394 - accuracy: 0.3293\n",
            "Epoch 15/50\n",
            "178/178 [==============================] - 15s 82ms/step - loss: 0.0384 - accuracy: 0.3416\n",
            "Epoch 16/50\n",
            "178/178 [==============================] - 15s 83ms/step - loss: 0.0373 - accuracy: 0.3534\n",
            "Epoch 17/50\n",
            "178/178 [==============================] - 15s 83ms/step - loss: 0.0361 - accuracy: 0.3659\n",
            "Epoch 18/50\n",
            "178/178 [==============================] - 15s 83ms/step - loss: 0.0342 - accuracy: 0.3917\n",
            "Epoch 19/50\n",
            "178/178 [==============================] - 15s 83ms/step - loss: 0.0321 - accuracy: 0.4299\n",
            "Epoch 20/50\n",
            "178/178 [==============================] - 15s 83ms/step - loss: 0.0300 - accuracy: 0.4942\n",
            "Epoch 21/50\n",
            "178/178 [==============================] - 15s 83ms/step - loss: 0.0279 - accuracy: 0.5206\n",
            "Epoch 22/50\n",
            "178/178 [==============================] - 15s 83ms/step - loss: 0.0260 - accuracy: 0.5621\n",
            "Epoch 23/50\n",
            "178/178 [==============================] - 15s 83ms/step - loss: 0.0247 - accuracy: 0.6013\n",
            "Epoch 24/50\n",
            "178/178 [==============================] - 15s 83ms/step - loss: 0.0234 - accuracy: 0.6463\n",
            "Epoch 25/50\n",
            "178/178 [==============================] - 15s 82ms/step - loss: 0.0213 - accuracy: 0.7083\n",
            "Epoch 26/50\n",
            "178/178 [==============================] - 15s 82ms/step - loss: 0.0197 - accuracy: 0.7440\n",
            "Epoch 27/50\n",
            "178/178 [==============================] - 15s 82ms/step - loss: 0.0183 - accuracy: 0.7762\n",
            "Epoch 28/50\n",
            "178/178 [==============================] - 14s 81ms/step - loss: 0.0174 - accuracy: 0.7925\n",
            "Epoch 29/50\n",
            "178/178 [==============================] - 15s 82ms/step - loss: 0.0158 - accuracy: 0.8288\n",
            "Epoch 30/50\n",
            "178/178 [==============================] - 15s 82ms/step - loss: 0.0148 - accuracy: 0.8514\n",
            "Epoch 31/50\n",
            "178/178 [==============================] - 15s 83ms/step - loss: 0.0138 - accuracy: 0.8613\n",
            "Epoch 32/50\n",
            "178/178 [==============================] - 14s 81ms/step - loss: 0.0129 - accuracy: 0.8673\n",
            "Epoch 33/50\n",
            "178/178 [==============================] - 15s 82ms/step - loss: 0.0120 - accuracy: 0.8768\n",
            "Epoch 34/50\n",
            "178/178 [==============================] - 15s 82ms/step - loss: 0.0119 - accuracy: 0.8764\n",
            "Epoch 35/50\n",
            "178/178 [==============================] - 15s 82ms/step - loss: 0.0107 - accuracy: 0.8938\n",
            "Epoch 36/50\n",
            "178/178 [==============================] - 15s 82ms/step - loss: 0.0101 - accuracy: 0.8961\n",
            "Epoch 37/50\n",
            "178/178 [==============================] - 15s 82ms/step - loss: 0.0097 - accuracy: 0.9065\n",
            "Epoch 38/50\n",
            "178/178 [==============================] - 15s 83ms/step - loss: 0.0093 - accuracy: 0.9107\n",
            "Epoch 39/50\n",
            "178/178 [==============================] - 15s 81ms/step - loss: 0.0089 - accuracy: 0.9142\n",
            "Epoch 40/50\n",
            "178/178 [==============================] - 15s 82ms/step - loss: 0.0084 - accuracy: 0.9163\n",
            "Epoch 41/50\n",
            "178/178 [==============================] - 15s 82ms/step - loss: 0.0080 - accuracy: 0.9221\n",
            "Epoch 42/50\n",
            "178/178 [==============================] - 15s 82ms/step - loss: 0.0077 - accuracy: 0.9242\n",
            "Epoch 43/50\n",
            "178/178 [==============================] - 15s 82ms/step - loss: 0.0074 - accuracy: 0.9223\n",
            "Epoch 44/50\n",
            "178/178 [==============================] - 15s 82ms/step - loss: 0.0071 - accuracy: 0.9276\n",
            "Epoch 45/50\n",
            "178/178 [==============================] - 15s 82ms/step - loss: 0.0071 - accuracy: 0.9304\n",
            "Epoch 46/50\n",
            "178/178 [==============================] - 15s 83ms/step - loss: 0.0068 - accuracy: 0.9350\n",
            "Epoch 47/50\n",
            "178/178 [==============================] - 15s 82ms/step - loss: 0.0064 - accuracy: 0.9378\n",
            "Epoch 48/50\n",
            "178/178 [==============================] - 15s 82ms/step - loss: 0.0062 - accuracy: 0.9337\n",
            "Epoch 49/50\n",
            "178/178 [==============================] - 15s 83ms/step - loss: 0.0073 - accuracy: 0.9320\n",
            "Epoch 50/50\n",
            "178/178 [==============================] - 15s 82ms/step - loss: 0.0063 - accuracy: 0.9348\n"
          ],
          "name": "stdout"
        }
      ]
    },
    {
      "cell_type": "code",
      "metadata": {
        "colab": {
          "base_uri": "https://localhost:8080/",
          "height": 545
        },
        "id": "tOnLkXUZA_da",
        "outputId": "ac8a16f2-c3cc-4b79-f33f-518d0266c1f0"
      },
      "source": [
        "# result analysis\n",
        "acc = history.history['accuracy']\n",
        "loss = history.history['loss']\n",
        "epochs = range(len(acc))\n",
        "plt.plot(epochs, acc, 'b', label='Training accuracy')\n",
        "plt.title('Training accuracy')\n",
        "plt.figure()\n",
        "plt.plot(epochs, loss, 'b', label='Training Loss')\n",
        "plt.title('Training loss')\n",
        "plt.legend()\n",
        "plt.show()"
      ],
      "execution_count": null,
      "outputs": [
        {
          "output_type": "display_data",
          "data": {
            "image/png": "[encoded data removed]",
            "text/plain": [
              "<Figure size 432x288 with 1 Axes>"
            ]
          },
          "metadata": {
            "tags": [],
            "needs_background": "light"
          }
        },
        {
          "output_type": "display_data",
          "data": {
            "image/png": "[encoded data removed]",
            "text/plain": [
              "<Figure size 432x288 with 1 Axes>"
            ]
          },
          "metadata": {
            "tags": [],
            "needs_background": "light"
          }
        }
      ]
    },
    {
      "cell_type": "code",
      "metadata": {
        "id": "ySYTiGGDKl08",
        "colab": {
          "base_uri": "https://localhost:8080/"
        },
        "outputId": "0324309c-007f-491d-fd44-791b9985b898"
      },
      "source": [
        "# testing random samples using model\n",
        "next_words = 10\n",
        "seed_text = \"ive never seen a diamond in the flesh i cut my\"\n",
        "for _ in range(next_words):\n",
        " token_list = tokenizer.texts_to_sequences([seed_text])[0]\n",
        " token_list = pad_sequences([token_list], maxlen=max_sequence_len-1, padding='pre')\n",
        " predicted = model.predict_classes(token_list, verbose=0)\n",
        " output_word = \"\"\n",
        " for word, index in tokenizer.word_index.items():\n",
        "     if index == predicted:\n",
        "         output_word = word\n",
        "         break\n",
        " seed_text += \" \" + output_word\n",
        "print(seed_text)"
      ],
      "execution_count": null,
      "outputs": [
        {
          "output_type": "stream",
          "text": [
            "/usr/local/lib/python3.7/dist-packages/tensorflow/python/keras/engine/sequential.py:455: UserWarning: `model.predict_classes()` is deprecated and will be removed after 2021-01-01. Please use instead:* `np.argmax(model.predict(x), axis=-1)`,   if your model does multi-class classification   (e.g. if it uses a `softmax` last-layer activation).* `(model.predict(x) > 0.5).astype(\"int32\")`,   if your model does binary classification   (e.g. if it uses a `sigmoid` last-layer activation).\n",
            "  warnings.warn('`model.predict_classes()` is deprecated and '\n"
          ],
          "name": "stderr"
        },
        {
          "output_type": "stream",
          "text": [
            "ive never seen a diamond in the flesh i cut my fault just a thing that my mind do do obsession\n"
          ],
          "name": "stdout"
        }
      ]
    }
  ]
}